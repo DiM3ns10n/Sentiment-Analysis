{
 "cells": [
  {
   "cell_type": "markdown",
   "id": "1fdd81ac-36e5-4b6e-85df-daca03751e25",
   "metadata": {},
   "source": [
    "# Imports"
   ]
  },
  {
   "cell_type": "code",
   "execution_count": 1,
   "id": "06f4afff-8bcb-402d-870b-fa94bcdd84e5",
   "metadata": {},
   "outputs": [
    {
     "name": "stderr",
     "output_type": "stream",
     "text": [
      "2023-12-06 21:03:07.471367: E tensorflow/compiler/xla/stream_executor/cuda/cuda_dnn.cc:9342] Unable to register cuDNN factory: Attempting to register factory for plugin cuDNN when one has already been registered\n",
      "2023-12-06 21:03:07.471387: E tensorflow/compiler/xla/stream_executor/cuda/cuda_fft.cc:609] Unable to register cuFFT factory: Attempting to register factory for plugin cuFFT when one has already been registered\n",
      "2023-12-06 21:03:07.477567: E tensorflow/compiler/xla/stream_executor/cuda/cuda_blas.cc:1518] Unable to register cuBLAS factory: Attempting to register factory for plugin cuBLAS when one has already been registered\n",
      "2023-12-06 21:03:08.334834: I tensorflow/core/platform/cpu_feature_guard.cc:182] This TensorFlow binary is optimized to use available CPU instructions in performance-critical operations.\n",
      "To enable the following instructions: AVX2 FMA, in other operations, rebuild TensorFlow with the appropriate compiler flags.\n"
     ]
    }
   ],
   "source": [
    "import tensorflow as tf\n",
    "from tensorflow.keras.layers import Input, TextVectorization, Embedding, Dense, Activation, LSTM, Conv1D, GlobalAveragePooling1D, BatchNormalization, Dropout\n",
    "\n",
    "import pandas as pd\n",
    "import matplotlib.pyplot as plt\n",
    "import numpy as np\n",
    "import seaborn as sns"
   ]
  },
  {
   "cell_type": "markdown",
   "id": "1200f6c0-cf26-46ac-8a51-97eaa5cea26b",
   "metadata": {},
   "source": [
    "## Getting The Data"
   ]
  },
  {
   "cell_type": "code",
   "execution_count": 2,
   "id": "26b825ff-8539-4d8a-835e-e6c3b7fc9301",
   "metadata": {},
   "outputs": [
    {
     "data": {
      "text/html": [
       "<div>\n",
       "<style scoped>\n",
       "    .dataframe tbody tr th:only-of-type {\n",
       "        vertical-align: middle;\n",
       "    }\n",
       "\n",
       "    .dataframe tbody tr th {\n",
       "        vertical-align: top;\n",
       "    }\n",
       "\n",
       "    .dataframe thead th {\n",
       "        text-align: right;\n",
       "    }\n",
       "</style>\n",
       "<table border=\"1\" class=\"dataframe\">\n",
       "  <thead>\n",
       "    <tr style=\"text-align: right;\">\n",
       "      <th></th>\n",
       "      <th>reviewerID</th>\n",
       "      <th>asin</th>\n",
       "      <th>reviewerName</th>\n",
       "      <th>helpful</th>\n",
       "      <th>reviewText</th>\n",
       "      <th>overall</th>\n",
       "      <th>summary</th>\n",
       "      <th>unixReviewTime</th>\n",
       "      <th>reviewTime</th>\n",
       "    </tr>\n",
       "  </thead>\n",
       "  <tbody>\n",
       "    <tr>\n",
       "      <th>0</th>\n",
       "      <td>A30TL5EWN6DFXT</td>\n",
       "      <td>120401325X</td>\n",
       "      <td>christina</td>\n",
       "      <td>[0, 0]</td>\n",
       "      <td>They look good and stick good! I just don't li...</td>\n",
       "      <td>4</td>\n",
       "      <td>Looks Good</td>\n",
       "      <td>1400630400</td>\n",
       "      <td>05 21, 2014</td>\n",
       "    </tr>\n",
       "    <tr>\n",
       "      <th>1</th>\n",
       "      <td>ASY55RVNIL0UD</td>\n",
       "      <td>120401325X</td>\n",
       "      <td>emily l.</td>\n",
       "      <td>[0, 0]</td>\n",
       "      <td>These stickers work like the review says they ...</td>\n",
       "      <td>5</td>\n",
       "      <td>Really great product.</td>\n",
       "      <td>1389657600</td>\n",
       "      <td>01 14, 2014</td>\n",
       "    </tr>\n",
       "    <tr>\n",
       "      <th>2</th>\n",
       "      <td>A2TMXE2AFO7ONB</td>\n",
       "      <td>120401325X</td>\n",
       "      <td>Erica</td>\n",
       "      <td>[0, 0]</td>\n",
       "      <td>These are awesome and make my phone look so st...</td>\n",
       "      <td>5</td>\n",
       "      <td>LOVE LOVE LOVE</td>\n",
       "      <td>1403740800</td>\n",
       "      <td>06 26, 2014</td>\n",
       "    </tr>\n",
       "    <tr>\n",
       "      <th>3</th>\n",
       "      <td>AWJ0WZQYMYFQ4</td>\n",
       "      <td>120401325X</td>\n",
       "      <td>JM</td>\n",
       "      <td>[4, 4]</td>\n",
       "      <td>Item arrived in great time and was in perfect ...</td>\n",
       "      <td>4</td>\n",
       "      <td>Cute!</td>\n",
       "      <td>1382313600</td>\n",
       "      <td>10 21, 2013</td>\n",
       "    </tr>\n",
       "    <tr>\n",
       "      <th>4</th>\n",
       "      <td>ATX7CZYFXI1KW</td>\n",
       "      <td>120401325X</td>\n",
       "      <td>patrice m rogoza</td>\n",
       "      <td>[2, 3]</td>\n",
       "      <td>awesome! stays on, and looks great. can be use...</td>\n",
       "      <td>5</td>\n",
       "      <td>leopard home button sticker for iphone 4s</td>\n",
       "      <td>1359849600</td>\n",
       "      <td>02 3, 2013</td>\n",
       "    </tr>\n",
       "  </tbody>\n",
       "</table>\n",
       "</div>"
      ],
      "text/plain": [
       "       reviewerID        asin      reviewerName helpful  \\\n",
       "0  A30TL5EWN6DFXT  120401325X         christina  [0, 0]   \n",
       "1   ASY55RVNIL0UD  120401325X          emily l.  [0, 0]   \n",
       "2  A2TMXE2AFO7ONB  120401325X             Erica  [0, 0]   \n",
       "3   AWJ0WZQYMYFQ4  120401325X                JM  [4, 4]   \n",
       "4   ATX7CZYFXI1KW  120401325X  patrice m rogoza  [2, 3]   \n",
       "\n",
       "                                          reviewText  overall  \\\n",
       "0  They look good and stick good! I just don't li...        4   \n",
       "1  These stickers work like the review says they ...        5   \n",
       "2  These are awesome and make my phone look so st...        5   \n",
       "3  Item arrived in great time and was in perfect ...        4   \n",
       "4  awesome! stays on, and looks great. can be use...        5   \n",
       "\n",
       "                                     summary  unixReviewTime   reviewTime  \n",
       "0                                 Looks Good      1400630400  05 21, 2014  \n",
       "1                      Really great product.      1389657600  01 14, 2014  \n",
       "2                             LOVE LOVE LOVE      1403740800  06 26, 2014  \n",
       "3                                      Cute!      1382313600  10 21, 2013  \n",
       "4  leopard home button sticker for iphone 4s      1359849600   02 3, 2013  "
      ]
     },
     "execution_count": 2,
     "metadata": {},
     "output_type": "execute_result"
    }
   ],
   "source": [
    "review_data = pd.read_json('Cell_Phones_and_Accessories_5.json', lines = True)\n",
    "review_data.head()"
   ]
  },
  {
   "cell_type": "markdown",
   "id": "abcaedae-0117-4028-b98e-892ff9fb3b90",
   "metadata": {},
   "source": [
    "## EDA"
   ]
  },
  {
   "cell_type": "code",
   "execution_count": 3,
   "id": "abbfb79a-5bba-409f-96cc-0e02f82923f2",
   "metadata": {},
   "outputs": [
    {
     "data": {
      "text/plain": [
       "reviewerID           0\n",
       "asin                 0\n",
       "reviewerName      3519\n",
       "helpful              0\n",
       "reviewText           0\n",
       "overall              0\n",
       "summary              0\n",
       "unixReviewTime       0\n",
       "reviewTime           0\n",
       "dtype: int64"
      ]
     },
     "execution_count": 3,
     "metadata": {},
     "output_type": "execute_result"
    }
   ],
   "source": [
    "review_data.isnull().sum()"
   ]
  },
  {
   "cell_type": "markdown",
   "id": "fdd64ac2-1344-4ab9-90d2-b464f1a684e9",
   "metadata": {},
   "source": [
    "Dropping reviewerName as it has null values and it is not important to data"
   ]
  },
  {
   "cell_type": "code",
   "execution_count": 4,
   "id": "6c1554e5-ccca-4a23-9e4d-460680ed3e7f",
   "metadata": {},
   "outputs": [
    {
     "data": {
      "text/html": [
       "<div>\n",
       "<style scoped>\n",
       "    .dataframe tbody tr th:only-of-type {\n",
       "        vertical-align: middle;\n",
       "    }\n",
       "\n",
       "    .dataframe tbody tr th {\n",
       "        vertical-align: top;\n",
       "    }\n",
       "\n",
       "    .dataframe thead th {\n",
       "        text-align: right;\n",
       "    }\n",
       "</style>\n",
       "<table border=\"1\" class=\"dataframe\">\n",
       "  <thead>\n",
       "    <tr style=\"text-align: right;\">\n",
       "      <th></th>\n",
       "      <th>reviewerID</th>\n",
       "      <th>asin</th>\n",
       "      <th>helpful</th>\n",
       "      <th>reviewText</th>\n",
       "      <th>overall</th>\n",
       "      <th>summary</th>\n",
       "      <th>unixReviewTime</th>\n",
       "      <th>reviewTime</th>\n",
       "    </tr>\n",
       "  </thead>\n",
       "  <tbody>\n",
       "    <tr>\n",
       "      <th>0</th>\n",
       "      <td>A30TL5EWN6DFXT</td>\n",
       "      <td>120401325X</td>\n",
       "      <td>[0, 0]</td>\n",
       "      <td>They look good and stick good! I just don't li...</td>\n",
       "      <td>4</td>\n",
       "      <td>Looks Good</td>\n",
       "      <td>1400630400</td>\n",
       "      <td>05 21, 2014</td>\n",
       "    </tr>\n",
       "    <tr>\n",
       "      <th>1</th>\n",
       "      <td>ASY55RVNIL0UD</td>\n",
       "      <td>120401325X</td>\n",
       "      <td>[0, 0]</td>\n",
       "      <td>These stickers work like the review says they ...</td>\n",
       "      <td>5</td>\n",
       "      <td>Really great product.</td>\n",
       "      <td>1389657600</td>\n",
       "      <td>01 14, 2014</td>\n",
       "    </tr>\n",
       "    <tr>\n",
       "      <th>2</th>\n",
       "      <td>A2TMXE2AFO7ONB</td>\n",
       "      <td>120401325X</td>\n",
       "      <td>[0, 0]</td>\n",
       "      <td>These are awesome and make my phone look so st...</td>\n",
       "      <td>5</td>\n",
       "      <td>LOVE LOVE LOVE</td>\n",
       "      <td>1403740800</td>\n",
       "      <td>06 26, 2014</td>\n",
       "    </tr>\n",
       "    <tr>\n",
       "      <th>3</th>\n",
       "      <td>AWJ0WZQYMYFQ4</td>\n",
       "      <td>120401325X</td>\n",
       "      <td>[4, 4]</td>\n",
       "      <td>Item arrived in great time and was in perfect ...</td>\n",
       "      <td>4</td>\n",
       "      <td>Cute!</td>\n",
       "      <td>1382313600</td>\n",
       "      <td>10 21, 2013</td>\n",
       "    </tr>\n",
       "    <tr>\n",
       "      <th>4</th>\n",
       "      <td>ATX7CZYFXI1KW</td>\n",
       "      <td>120401325X</td>\n",
       "      <td>[2, 3]</td>\n",
       "      <td>awesome! stays on, and looks great. can be use...</td>\n",
       "      <td>5</td>\n",
       "      <td>leopard home button sticker for iphone 4s</td>\n",
       "      <td>1359849600</td>\n",
       "      <td>02 3, 2013</td>\n",
       "    </tr>\n",
       "  </tbody>\n",
       "</table>\n",
       "</div>"
      ],
      "text/plain": [
       "       reviewerID        asin helpful  \\\n",
       "0  A30TL5EWN6DFXT  120401325X  [0, 0]   \n",
       "1   ASY55RVNIL0UD  120401325X  [0, 0]   \n",
       "2  A2TMXE2AFO7ONB  120401325X  [0, 0]   \n",
       "3   AWJ0WZQYMYFQ4  120401325X  [4, 4]   \n",
       "4   ATX7CZYFXI1KW  120401325X  [2, 3]   \n",
       "\n",
       "                                          reviewText  overall  \\\n",
       "0  They look good and stick good! I just don't li...        4   \n",
       "1  These stickers work like the review says they ...        5   \n",
       "2  These are awesome and make my phone look so st...        5   \n",
       "3  Item arrived in great time and was in perfect ...        4   \n",
       "4  awesome! stays on, and looks great. can be use...        5   \n",
       "\n",
       "                                     summary  unixReviewTime   reviewTime  \n",
       "0                                 Looks Good      1400630400  05 21, 2014  \n",
       "1                      Really great product.      1389657600  01 14, 2014  \n",
       "2                             LOVE LOVE LOVE      1403740800  06 26, 2014  \n",
       "3                                      Cute!      1382313600  10 21, 2013  \n",
       "4  leopard home button sticker for iphone 4s      1359849600   02 3, 2013  "
      ]
     },
     "execution_count": 4,
     "metadata": {},
     "output_type": "execute_result"
    }
   ],
   "source": [
    "review_data = review_data.drop(['reviewerName'], axis =1)\n",
    "review_data.head()"
   ]
  },
  {
   "cell_type": "code",
   "execution_count": 5,
   "id": "819de4bf-0c09-4d1a-aa38-dc3ba9be632e",
   "metadata": {},
   "outputs": [
    {
     "data": {
      "text/plain": [
       "overall\n",
       "5    108664\n",
       "4     39993\n",
       "3     21439\n",
       "1     13279\n",
       "2     11064\n",
       "Name: count, dtype: int64"
      ]
     },
     "execution_count": 5,
     "metadata": {},
     "output_type": "execute_result"
    }
   ],
   "source": [
    "review_data['overall'].value_counts()"
   ]
  },
  {
   "cell_type": "code",
   "execution_count": 6,
   "id": "467a154b-16c4-49dd-a86f-7522874d17cc",
   "metadata": {},
   "outputs": [
    {
     "data": {
      "text/plain": [
       "<Axes: xlabel='overall', ylabel='count'>"
      ]
     },
     "execution_count": 6,
     "metadata": {},
     "output_type": "execute_result"
    },
    {
     "data": {
      "image/png": "[encoded data removed]",
      "text/plain": [
       "<Figure size 640x480 with 1 Axes>"
      ]
     },
     "metadata": {},
     "output_type": "display_data"
    }
   ],
   "source": [
    "sns.countplot(data = review_data, x = 'overall')"
   ]
  },
  {
   "cell_type": "markdown",
   "id": "3d67d987-99dc-4b60-8a99-b4d5fd9ffe5a",
   "metadata": {},
   "source": [
    "## Keeping reviewText and overall columns"
   ]
  },
  {
   "cell_type": "code",
   "execution_count": 7,
   "id": "c07a1e57-25d0-439a-94ff-1e5597845170",
   "metadata": {},
   "outputs": [],
   "source": [
    "reviews = review_data['reviewText']\n",
    "labels = review_data['overall']"
   ]
  },
  {
   "cell_type": "markdown",
   "id": "cd006207-27f1-4dc4-b0d2-cc3bc0243642",
   "metadata": {},
   "source": [
    "## Train Test Split "
   ]
  },
  {
   "cell_type": "code",
   "execution_count": 8,
   "id": "e9f67d1c-d4a3-45b4-bb97-fe0ef061d213",
   "metadata": {},
   "outputs": [],
   "source": [
    "from sklearn.model_selection import train_test_split"
   ]
  },
  {
   "cell_type": "code",
   "execution_count": 9,
   "id": "f0140721-6036-456c-9ced-8ca7ec1a13c9",
   "metadata": {},
   "outputs": [],
   "source": [
    "X_train, X_test, y_train, y_test = train_test_split(reviews, labels, test_size = 0.3, random_state =42 )"
   ]
  },
  {
   "cell_type": "markdown",
   "id": "950947ff-26dc-423c-b0fd-55d41d0a2f02",
   "metadata": {},
   "source": [
    "### OneHotEncoding"
   ]
  },
  {
   "cell_type": "code",
   "execution_count": 10,
   "id": "30c03361-2d3b-441d-be7b-5de33123c0a6",
   "metadata": {},
   "outputs": [],
   "source": [
    "from sklearn.preprocessing import OneHotEncoder\n",
    "one_hot_encoder = OneHotEncoder(sparse_output = False)\n",
    "train_labels_onehot = one_hot_encoder.fit_transform(y_train.to_numpy().reshape(-1,1))"
   ]
  },
  {
   "cell_type": "code",
   "execution_count": 11,
   "id": "bcaa5d2f-678d-4c2d-923c-318857027256",
   "metadata": {},
   "outputs": [],
   "source": [
    "test_labels_onehot = one_hot_encoder.transform(y_test.to_numpy().reshape(-1,1))"
   ]
  },
  {
   "cell_type": "code",
   "execution_count": 12,
   "id": "5e915f98-7050-42a0-91e2-79ba9db84cdb",
   "metadata": {},
   "outputs": [
    {
     "data": {
      "text/plain": [
       "array([[0., 0., 0., 1., 0.],\n",
       "       [0., 0., 1., 0., 0.],\n",
       "       [1., 0., 0., 0., 0.],\n",
       "       ...,\n",
       "       [0., 0., 0., 1., 0.],\n",
       "       [0., 0., 0., 1., 0.],\n",
       "       [0., 0., 0., 0., 1.]])"
      ]
     },
     "execution_count": 12,
     "metadata": {},
     "output_type": "execute_result"
    }
   ],
   "source": [
    "train_labels_onehot"
   ]
  },
  {
   "cell_type": "markdown",
   "id": "a037710a-8e43-4ae0-bb11-8c1f79f38ecb",
   "metadata": {},
   "source": [
    "## Baseline Model"
   ]
  },
  {
   "cell_type": "code",
   "execution_count": 13,
   "id": "b1b26a8c-83f5-42ae-8436-7276d1034894",
   "metadata": {},
   "outputs": [],
   "source": [
    "from sklearn.feature_extraction.text import TfidfVectorizer\n",
    "from sklearn.naive_bayes import MultinomialNB\n",
    "from sklearn.pipeline import make_pipeline"
   ]
  },
  {
   "cell_type": "code",
   "execution_count": 14,
   "id": "a50cfd20-cfb8-4f36-ab31-668074d9fd3d",
   "metadata": {},
   "outputs": [
    {
     "data": {
      "text/html": [
       "<style>#sk-container-id-1 {color: black;}#sk-container-id-1 pre{padding: 0;}#sk-container-id-1 div.sk-toggleable {background-color: white;}#sk-container-id-1 label.sk-toggleable__label {cursor: pointer;display: block;width: 100%;margin-bottom: 0;padding: 0.3em;box-sizing: border-box;text-align: center;}#sk-container-id-1 label.sk-toggleable__label-arrow:before {content: \"▸\";float: left;margin-right: 0.25em;color: #696969;}#sk-container-id-1 label.sk-toggleable__label-arrow:hover:before {color: black;}#sk-container-id-1 div.sk-estimator:hover label.sk-toggleable__label-arrow:before {color: black;}#sk-container-id-1 div.sk-toggleable__content {max-height: 0;max-width: 0;overflow: hidden;text-align: left;background-color: #f0f8ff;}#sk-container-id-1 div.sk-toggleable__content pre {margin: 0.2em;color: black;border-radius: 0.25em;background-color: #f0f8ff;}#sk-container-id-1 input.sk-toggleable__control:checked~div.sk-toggleable__content {max-height: 200px;max-width: 100%;overflow: auto;}#sk-container-id-1 input.sk-toggleable__control:checked~label.sk-toggleable__label-arrow:before {content: \"▾\";}#sk-container-id-1 div.sk-estimator input.sk-toggleable__control:checked~label.sk-toggleable__label {background-color: #d4ebff;}#sk-container-id-1 div.sk-label input.sk-toggleable__control:checked~label.sk-toggleable__label {background-color: #d4ebff;}#sk-container-id-1 input.sk-hidden--visually {border: 0;clip: rect(1px 1px 1px 1px);clip: rect(1px, 1px, 1px, 1px);height: 1px;margin: -1px;overflow: hidden;padding: 0;position: absolute;width: 1px;}#sk-container-id-1 div.sk-estimator {font-family: monospace;background-color: #f0f8ff;border: 1px dotted black;border-radius: 0.25em;box-sizing: border-box;margin-bottom: 0.5em;}#sk-container-id-1 div.sk-estimator:hover {background-color: #d4ebff;}#sk-container-id-1 div.sk-parallel-item::after {content: \"\";width: 100%;border-bottom: 1px solid gray;flex-grow: 1;}#sk-container-id-1 div.sk-label:hover label.sk-toggleable__label {background-color: #d4ebff;}#sk-container-id-1 div.sk-serial::before {content: \"\";position: absolute;border-left: 1px solid gray;box-sizing: border-box;top: 0;bottom: 0;left: 50%;z-index: 0;}#sk-container-id-1 div.sk-serial {display: flex;flex-direction: column;align-items: center;background-color: white;padding-right: 0.2em;padding-left: 0.2em;position: relative;}#sk-container-id-1 div.sk-item {position: relative;z-index: 1;}#sk-container-id-1 div.sk-parallel {display: flex;align-items: stretch;justify-content: center;background-color: white;position: relative;}#sk-container-id-1 div.sk-item::before, #sk-container-id-1 div.sk-parallel-item::before {content: \"\";position: absolute;border-left: 1px solid gray;box-sizing: border-box;top: 0;bottom: 0;left: 50%;z-index: -1;}#sk-container-id-1 div.sk-parallel-item {display: flex;flex-direction: column;z-index: 1;position: relative;background-color: white;}#sk-container-id-1 div.sk-parallel-item:first-child::after {align-self: flex-end;width: 50%;}#sk-container-id-1 div.sk-parallel-item:last-child::after {align-self: flex-start;width: 50%;}#sk-container-id-1 div.sk-parallel-item:only-child::after {width: 0;}#sk-container-id-1 div.sk-dashed-wrapped {border: 1px dashed gray;margin: 0 0.4em 0.5em 0.4em;box-sizing: border-box;padding-bottom: 0.4em;background-color: white;}#sk-container-id-1 div.sk-label label {font-family: monospace;font-weight: bold;display: inline-block;line-height: 1.2em;}#sk-container-id-1 div.sk-label-container {text-align: center;}#sk-container-id-1 div.sk-container {/* jupyter's `normalize.less` sets `[hidden] { display: none; }` but bootstrap.min.css set `[hidden] { display: none !important; }` so we also need the `!important` here to be able to override the default hidden behavior on the sphinx rendered scikit-learn.org. See: https://github.com/scikit-learn/scikit-learn/issues/21755 */display: inline-block !important;position: relative;}#sk-container-id-1 div.sk-text-repr-fallback {display: none;}</style><div id=\"sk-container-id-1\" class=\"sk-top-container\"><div class=\"sk-text-repr-fallback\"><pre>Pipeline(steps=[(&#x27;tfidfvectorizer&#x27;, TfidfVectorizer()),\n",
       "                (&#x27;multinomialnb&#x27;, MultinomialNB())])</pre><b>In a Jupyter environment, please rerun this cell to show the HTML representation or trust the notebook. <br />On GitHub, the HTML representation is unable to render, please try loading this page with nbviewer.org.</b></div><div class=\"sk-container\" hidden><div class=\"sk-item sk-dashed-wrapped\"><div class=\"sk-label-container\"><div class=\"sk-label sk-toggleable\"><input class=\"sk-toggleable__control sk-hidden--visually\" id=\"sk-estimator-id-1\" type=\"checkbox\" ><label for=\"sk-estimator-id-1\" class=\"sk-toggleable__label sk-toggleable__label-arrow\">Pipeline</label><div class=\"sk-toggleable__content\"><pre>Pipeline(steps=[(&#x27;tfidfvectorizer&#x27;, TfidfVectorizer()),\n",
       "                (&#x27;multinomialnb&#x27;, MultinomialNB())])</pre></div></div></div><div class=\"sk-serial\"><div class=\"sk-item\"><div class=\"sk-estimator sk-toggleable\"><input class=\"sk-toggleable__control sk-hidden--visually\" id=\"sk-estimator-id-2\" type=\"checkbox\" ><label for=\"sk-estimator-id-2\" class=\"sk-toggleable__label sk-toggleable__label-arrow\">TfidfVectorizer</label><div class=\"sk-toggleable__content\"><pre>TfidfVectorizer()</pre></div></div></div><div class=\"sk-item\"><div class=\"sk-estimator sk-toggleable\"><input class=\"sk-toggleable__control sk-hidden--visually\" id=\"sk-estimator-id-3\" type=\"checkbox\" ><label for=\"sk-estimator-id-3\" class=\"sk-toggleable__label sk-toggleable__label-arrow\">MultinomialNB</label><div class=\"sk-toggleable__content\"><pre>MultinomialNB()</pre></div></div></div></div></div></div></div>"
      ],
      "text/plain": [
       "Pipeline(steps=[('tfidfvectorizer', TfidfVectorizer()),\n",
       "                ('multinomialnb', MultinomialNB())])"
      ]
     },
     "execution_count": 14,
     "metadata": {},
     "output_type": "execute_result"
    }
   ],
   "source": [
    "baseline_model = make_pipeline(\n",
    "    (TfidfVectorizer()),\n",
    "    (MultinomialNB())\n",
    ")\n",
    "\n",
    "baseline_model.fit(X = X_train,\n",
    "                   y = y_train)"
   ]
  },
  {
   "cell_type": "code",
   "execution_count": 15,
   "id": "5247248d-5bec-428c-a10e-c0add7377f7a",
   "metadata": {},
   "outputs": [],
   "source": [
    "from sklearn.metrics import precision_recall_fscore_support, accuracy_score\n"
   ]
  },
  {
   "cell_type": "code",
   "execution_count": 16,
   "id": "f2f1cd4e-bad3-4d1c-b98c-08ee97f1af5d",
   "metadata": {},
   "outputs": [],
   "source": [
    "def calculate_results(y_true, y_preds):\n",
    "    '''\n",
    "    Gives the accuracy, recall, precision and f1-score in a dictionary format\n",
    "\n",
    "    Args:\n",
    "         y_true: Actual values i.e label\n",
    "         y_pred: Predictions given by the model\n",
    "    \n",
    "    Returns:\n",
    "        A dictionary containing Accuracy, Recall, Precision, F1-score\n",
    "    '''\n",
    "    \n",
    "    accuracy = accuracy_score(y_true, y_preds)\n",
    "    precision, recall, f1_score , _ = precision_recall_fscore_support(y_true,y_preds, average= 'weighted')\n",
    "    \n",
    "    results = {'Accuracy':accuracy,\n",
    "               'Recall':recall,\n",
    "               'Precision':precision,\n",
    "               'F1-score':f1_score}\n",
    "    return results"
   ]
  },
  {
   "cell_type": "code",
   "execution_count": 17,
   "id": "ef80c048-4538-4d93-beda-9b05d91d5e73",
   "metadata": {},
   "outputs": [
    {
     "data": {
      "text/plain": [
       "array([5, 5, 5, 5, 5])"
      ]
     },
     "execution_count": 17,
     "metadata": {},
     "output_type": "execute_result"
    }
   ],
   "source": [
    "baseline_model_predict = baseline_model.predict(X_test)\n",
    "baseline_model_predict[:5]"
   ]
  },
  {
   "cell_type": "code",
   "execution_count": 18,
   "id": "11fd1425-bd1d-452e-9a00-72c17b445549",
   "metadata": {},
   "outputs": [
    {
     "name": "stderr",
     "output_type": "stream",
     "text": [
      "/home/mayank/Mayank/PycharmProjects/TF_GPU/venv/lib/python3.10/site-packages/sklearn/metrics/_classification.py:1471: UndefinedMetricWarning: Precision and F-score are ill-defined and being set to 0.0 in labels with no predicted samples. Use `zero_division` parameter to control this behavior.\n",
      "  _warn_prf(average, modifier, msg_start, len(result))\n"
     ]
    },
    {
     "data": {
      "text/plain": [
       "{'Accuracy': 0.5595042172392511,\n",
       " 'Recall': 0.5595042172392511,\n",
       " 'Precision': 0.5021230020453383,\n",
       " 'F1-score': 0.4025129432806949}"
      ]
     },
     "execution_count": 18,
     "metadata": {},
     "output_type": "execute_result"
    }
   ],
   "source": [
    "baselin_results = calculate_results(y_true = y_test, y_preds=baseline_model_predict)\n",
    "baselin_results"
   ]
  },
  {
   "cell_type": "markdown",
   "id": "65c8adf5-7ac0-4eda-bc77-36529e4fb6de",
   "metadata": {},
   "source": [
    "## Mixed Precision"
   ]
  },
  {
   "cell_type": "code",
   "execution_count": 19,
   "id": "2ef89aed-1875-4b1e-93e8-19926cc15bdd",
   "metadata": {},
   "outputs": [
    {
     "name": "stderr",
     "output_type": "stream",
     "text": [
      "2023-12-06 21:03:41.997715: I tensorflow/compiler/xla/stream_executor/cuda/cuda_gpu_executor.cc:894] successful NUMA node read from SysFS had negative value (-1), but there must be at least one NUMA node, so returning NUMA node zero. See more at https://github.com/torvalds/linux/blob/v6.0/Documentation/ABI/testing/sysfs-bus-pci#L344-L355\n"
     ]
    },
    {
     "name": "stdout",
     "output_type": "stream",
     "text": [
      "INFO:tensorflow:Mixed precision compatibility check (mixed_float16): OK\n",
      "Your GPU will likely run quickly with dtype policy mixed_float16 as it has compute capability of at least 7.0. Your GPU: NVIDIA GeForce GTX 1660 Ti, compute capability 7.5\n"
     ]
    },
    {
     "name": "stderr",
     "output_type": "stream",
     "text": [
      "2023-12-06 21:03:42.445606: I tensorflow/compiler/xla/stream_executor/cuda/cuda_gpu_executor.cc:894] successful NUMA node read from SysFS had negative value (-1), but there must be at least one NUMA node, so returning NUMA node zero. See more at https://github.com/torvalds/linux/blob/v6.0/Documentation/ABI/testing/sysfs-bus-pci#L344-L355\n",
      "2023-12-06 21:03:42.445757: I tensorflow/compiler/xla/stream_executor/cuda/cuda_gpu_executor.cc:894] successful NUMA node read from SysFS had negative value (-1), but there must be at least one NUMA node, so returning NUMA node zero. See more at https://github.com/torvalds/linux/blob/v6.0/Documentation/ABI/testing/sysfs-bus-pci#L344-L355\n",
      "2023-12-06 21:03:42.446974: I tensorflow/compiler/xla/stream_executor/cuda/cuda_gpu_executor.cc:894] successful NUMA node read from SysFS had negative value (-1), but there must be at least one NUMA node, so returning NUMA node zero. See more at https://github.com/torvalds/linux/blob/v6.0/Documentation/ABI/testing/sysfs-bus-pci#L344-L355\n"
     ]
    }
   ],
   "source": [
    "from tensorflow.keras import mixed_precision\n",
    "mixed_precision.set_global_policy('mixed_float16')"
   ]
  },
  {
   "cell_type": "markdown",
   "id": "2f769b8d-2b71-4303-ab9e-1f8c95856c1f",
   "metadata": {},
   "source": [
    "## Tokenising and Embedding the Training data and OneHotEncoding Training Labels"
   ]
  },
  {
   "cell_type": "markdown",
   "id": "6cac99da-532c-462f-a4a7-1c7220abe516",
   "metadata": {},
   "source": [
    "### Tokenizing and Embedding"
   ]
  },
  {
   "cell_type": "code",
   "execution_count": 20,
   "id": "c0ba62ec-05cc-49b6-85d8-5d75f0cca354",
   "metadata": {
    "scrolled": true
   },
   "outputs": [],
   "source": [
    "sequence_length = [len(sentence.split()) for sentence in X_train]\n",
    "# sequence_length"
   ]
  },
  {
   "cell_type": "code",
   "execution_count": 21,
   "id": "03d7307c-5251-40e1-8ebd-97d5cde1f810",
   "metadata": {},
   "outputs": [
    {
     "data": {
      "text/plain": [
       "307"
      ]
     },
     "execution_count": 21,
     "metadata": {},
     "output_type": "execute_result"
    }
   ],
   "source": [
    "output_sequence_length = int(np.percentile(sequence_length,95))\n",
    "output_sequence_length"
   ]
  },
  {
   "cell_type": "code",
   "execution_count": 22,
   "id": "3baf07e1-9bd4-459a-a430-4c9f315c02fe",
   "metadata": {},
   "outputs": [
    {
     "name": "stderr",
     "output_type": "stream",
     "text": [
      "2023-12-06 21:03:43.195254: I tensorflow/compiler/xla/stream_executor/cuda/cuda_gpu_executor.cc:894] successful NUMA node read from SysFS had negative value (-1), but there must be at least one NUMA node, so returning NUMA node zero. See more at https://github.com/torvalds/linux/blob/v6.0/Documentation/ABI/testing/sysfs-bus-pci#L344-L355\n",
      "2023-12-06 21:03:43.195422: I tensorflow/compiler/xla/stream_executor/cuda/cuda_gpu_executor.cc:894] successful NUMA node read from SysFS had negative value (-1), but there must be at least one NUMA node, so returning NUMA node zero. See more at https://github.com/torvalds/linux/blob/v6.0/Documentation/ABI/testing/sysfs-bus-pci#L344-L355\n",
      "2023-12-06 21:03:43.195512: I tensorflow/compiler/xla/stream_executor/cuda/cuda_gpu_executor.cc:894] successful NUMA node read from SysFS had negative value (-1), but there must be at least one NUMA node, so returning NUMA node zero. See more at https://github.com/torvalds/linux/blob/v6.0/Documentation/ABI/testing/sysfs-bus-pci#L344-L355\n",
      "2023-12-06 21:03:43.425381: I tensorflow/compiler/xla/stream_executor/cuda/cuda_gpu_executor.cc:894] successful NUMA node read from SysFS had negative value (-1), but there must be at least one NUMA node, so returning NUMA node zero. See more at https://github.com/torvalds/linux/blob/v6.0/Documentation/ABI/testing/sysfs-bus-pci#L344-L355\n",
      "2023-12-06 21:03:43.425496: I tensorflow/compiler/xla/stream_executor/cuda/cuda_gpu_executor.cc:894] successful NUMA node read from SysFS had negative value (-1), but there must be at least one NUMA node, so returning NUMA node zero. See more at https://github.com/torvalds/linux/blob/v6.0/Documentation/ABI/testing/sysfs-bus-pci#L344-L355\n",
      "2023-12-06 21:03:43.425591: I tensorflow/compiler/xla/stream_executor/cuda/cuda_gpu_executor.cc:894] successful NUMA node read from SysFS had negative value (-1), but there must be at least one NUMA node, so returning NUMA node zero. See more at https://github.com/torvalds/linux/blob/v6.0/Documentation/ABI/testing/sysfs-bus-pci#L344-L355\n",
      "2023-12-06 21:03:43.425669: I tensorflow/core/common_runtime/gpu/gpu_device.cc:1886] Created device /job:localhost/replica:0/task:0/device:GPU:0 with 4657 MB memory:  -> device: 0, name: NVIDIA GeForce GTX 1660 Ti, pci bus id: 0000:01:00.0, compute capability: 7.5\n"
     ]
    }
   ],
   "source": [
    "tokenizer = TextVectorization(max_tokens = None,\n",
    "                            standardize = 'lower_and_strip_punctuation',\n",
    "                            split = 'whitespace',\n",
    "                            output_sequence_length = output_sequence_length\n",
    "                            )"
   ]
  },
  {
   "cell_type": "code",
   "execution_count": 23,
   "id": "47b7c7d6-5e7d-4f7d-867a-6e9398bc7ac4",
   "metadata": {},
   "outputs": [],
   "source": [
    "tokenizer.adapt(X_train)"
   ]
  },
  {
   "cell_type": "code",
   "execution_count": 24,
   "id": "5a611629-0931-4e61-ba4c-fdd9f29f1ee8",
   "metadata": {
    "scrolled": true
   },
   "outputs": [
    {
     "name": "stdout",
     "output_type": "stream",
     "text": [
      "Top five words['', '[UNK]', 'the', 'i', 'and'] \n",
      "Bottom five['00005', '00002', '000000', '00000', '\\x1d\\x1dwhile']\n"
     ]
    }
   ],
   "source": [
    "vocab = tokenizer.get_vocabulary()\n",
    "print(f'Top five words{vocab[:5]} \\nBottom five{vocab[-5:]}')"
   ]
  },
  {
   "cell_type": "code",
   "execution_count": 25,
   "id": "8102f0c0-2117-4daf-94fb-463e4700fd84",
   "metadata": {},
   "outputs": [],
   "source": [
    "embedding_layer = Embedding(input_dim = len(vocab),\n",
    "                       output_dim = 512,\n",
    "                       input_length = output_sequence_length,\n",
    "                        mask_zero = True,\n",
    "                       )"
   ]
  },
  {
   "cell_type": "markdown",
   "id": "846f003f-28ca-4dfd-a366-5031f2cc230e",
   "metadata": {},
   "source": [
    "## Creating a Dataset"
   ]
  },
  {
   "cell_type": "code",
   "execution_count": 26,
   "id": "52a8847a-992d-4983-9f43-46eaea45e09c",
   "metadata": {},
   "outputs": [],
   "source": [
    "train_dataset = tf.data.Dataset.from_tensor_slices((X_train, train_labels_onehot))\n",
    "test_dataset = tf.data.Dataset.from_tensor_slices((X_test, test_labels_onehot))"
   ]
  },
  {
   "cell_type": "code",
   "execution_count": 27,
   "id": "277c2378-a6e9-4105-b1a5-ba6f5e65a735",
   "metadata": {},
   "outputs": [],
   "source": [
    "train_dataset = train_dataset.batch(32).shuffle(1000).prefetch(tf.data.AUTOTUNE)\n",
    "test_dataset = test_dataset.batch(32).prefetch(tf.data.AUTOTUNE)"
   ]
  },
  {
   "cell_type": "markdown",
   "id": "16c2981d-1063-4ef3-9f29-1033311b5d4c",
   "metadata": {},
   "source": [
    "## Callbacks"
   ]
  },
  {
   "cell_type": "code",
   "execution_count": 28,
   "id": "d93608e9-2761-48ef-9fa3-e16f5050d6b6",
   "metadata": {},
   "outputs": [],
   "source": [
    "def create_checkpoint(name):\n",
    "    # filepath = 'checkpoints/{}.ckpt'.format(name)\n",
    "    filepath = 'checkpoints/'+ name + '.ckpt'\n",
    "    checkpoint = tf.keras.callbacks.ModelCheckpoint(filepath = filepath,\n",
    "                                                    monitor = 'val_accuracy',\n",
    "                                                    save_weights_only = True,\n",
    "                                                    save_best_only = True,\n",
    "                                                    save_freq = 'epoch',\n",
    "                                                    verbose = 1\n",
    "                                                   )\n",
    "    return checkpoint\n",
    "\n",
    "early_stopping = tf.keras.callbacks.EarlyStopping(monitor = 'val_accuracy',\n",
    "                                                 verbose =1,\n",
    "                                                 patience = 3)\n",
    "\n",
    "reduce_lr = tf.keras.callbacks.ReduceLROnPlateau(monitor = 'val_loss',\n",
    "                                                verbose = 1,\n",
    "                                                factor = 0.2,\n",
    "                                                min_lr = 1e-7,\n",
    "                                                patience = 1)"
   ]
  },
  {
   "cell_type": "markdown",
   "id": "df821c9b-fcc5-493a-9e5b-50b74a31b81a",
   "metadata": {},
   "source": [
    "## Model"
   ]
  },
  {
   "cell_type": "code",
   "execution_count": 32,
   "id": "4a8469f5-1915-433a-9fc7-edd5c3460c21",
   "metadata": {},
   "outputs": [],
   "source": [
    "inputs = Input(shape=[1,], dtype = tf.string, name = 'input_layer')\n",
    "\n",
    "x = tokenizer(inputs)\n",
    "x = embedding_layer(x)\n",
    "\n",
    "x = LSTM(64, return_sequences = True)(x)\n",
    "x = LSTM(32)(x)\n",
    "x = BatchNormalization()(x)\n",
    "\n",
    "x = Dense(64, activation = 'relu')(x)\n",
    "x = BatchNormalization()(x)\n",
    "x = Dense(32, activation = 'relu')(x)\n",
    "\n",
    "outputs = Dense(5, activation = 'softmax', dtype = tf.float32)(x)\n",
    "\n",
    "model = tf.keras.models.Model(inputs,outputs)"
   ]
  },
  {
   "cell_type": "code",
   "execution_count": 33,
   "id": "122f62d1-92bc-4526-81ba-cf8c424ac960",
   "metadata": {},
   "outputs": [],
   "source": [
    "model.compile(loss = tf.keras.losses.CategoricalCrossentropy(label_smoothing=0.1),\n",
    "             optimizer = tf.keras.optimizers.Adam(),\n",
    "             metrics = ['accuracy'])"
   ]
  },
  {
   "cell_type": "code",
   "execution_count": 34,
   "id": "5c76785d-c3f5-4ca1-8367-d2d7503eeb13",
   "metadata": {},
   "outputs": [
    {
     "name": "stdout",
     "output_type": "stream",
     "text": [
      "Epoch 1/100\n",
      "4253/4254 [============================>.] - ETA: 0s - loss: 1.1062 - accuracy: 0.6158\n",
      "Epoch 1: val_accuracy improved from -inf to 0.64057, saving model to checkpoints/model.ckpt\n",
      "4254/4254 [==============================] - 288s 66ms/step - loss: 1.1062 - accuracy: 0.6158 - val_loss: 1.0480 - val_accuracy: 0.6406 - lr: 0.0010\n",
      "Epoch 2/100\n",
      "4254/4254 [==============================] - ETA: 0s - loss: 0.9890 - accuracy: 0.6766\n",
      "Epoch 2: val_accuracy improved from 0.64057 to 0.66629, saving model to checkpoints/model.ckpt\n",
      "4254/4254 [==============================] - 249s 59ms/step - loss: 0.9890 - accuracy: 0.6766 - val_loss: 1.0053 - val_accuracy: 0.6663 - lr: 0.0010\n",
      "Epoch 3/100\n",
      "4253/4254 [============================>.] - ETA: 0s - loss: 0.8706 - accuracy: 0.7459\n",
      "Epoch 3: val_accuracy did not improve from 0.66629\n",
      "\n",
      "Epoch 3: ReduceLROnPlateau reducing learning rate to 0.00020000000949949026.\n",
      "4254/4254 [==============================] - 243s 57ms/step - loss: 0.8705 - accuracy: 0.7459 - val_loss: 1.0491 - val_accuracy: 0.6565 - lr: 0.0010\n",
      "Epoch 4/100\n",
      "4253/4254 [============================>.] - ETA: 0s - loss: 0.7219 - accuracy: 0.8307\n",
      "Epoch 4: val_accuracy did not improve from 0.66629\n",
      "\n",
      "Epoch 4: ReduceLROnPlateau reducing learning rate to 4.0000001899898055e-05.\n",
      "4254/4254 [==============================] - 245s 58ms/step - loss: 0.7219 - accuracy: 0.8307 - val_loss: 1.1189 - val_accuracy: 0.6474 - lr: 2.0000e-04\n",
      "Epoch 5/100\n",
      "4253/4254 [============================>.] - ETA: 0s - loss: 0.6595 - accuracy: 0.8680\n",
      "Epoch 5: val_accuracy did not improve from 0.66629\n",
      "\n",
      "Epoch 5: ReduceLROnPlateau reducing learning rate to 8.000000525498762e-06.\n",
      "4254/4254 [==============================] - 244s 57ms/step - loss: 0.6594 - accuracy: 0.8681 - val_loss: 1.1540 - val_accuracy: 0.6497 - lr: 4.0000e-05\n",
      "Epoch 5: early stopping\n"
     ]
    }
   ],
   "source": [
    "model_history = model.fit(train_dataset,\n",
    "                         epochs = 100,\n",
    "                         validation_data = test_dataset,\n",
    "                         validation_steps = len(test_dataset),\n",
    "                         callbacks = [create_checkpoint('model'),\n",
    "                                     early_stopping,\n",
    "                                     reduce_lr]\n",
    "                         )"
   ]
  },
  {
   "cell_type": "code",
   "execution_count": 35,
   "id": "afa8e384-fbd7-46b4-982e-764f53dc45f7",
   "metadata": {},
   "outputs": [],
   "source": [
    "inputs = Input(shape=[1,], dtype = tf.string, name = 'input_layer')\n",
    "\n",
    "x = tokenizer(inputs)\n",
    "x = embedding_layer(x)\n",
    "\n",
    "x = LSTM(64, return_sequences = True)(x)\n",
    "x = LSTM(32)(x)\n",
    "x = BatchNormalization()(x)\n",
    "\n",
    "x = Dense(64, activation = 'relu')(x)\n",
    "x = BatchNormalization()(x)\n",
    "x = Dense(32, activation = 'relu')(x)\n",
    "x = BatchNormalization()(x)\n",
    "x = Dense(16, activation = 'relu')(x)\n",
    "x = BatchNormalization()(x)\n",
    "outputs = Dense(5, activation = 'softmax',dtype = tf.float32)(x)\n",
    "\n",
    "model2 = tf.keras.models.Model(inputs,outputs)"
   ]
  },
  {
   "cell_type": "code",
   "execution_count": 36,
   "id": "9ab706be-e1b9-4a50-824f-5273b4ee863f",
   "metadata": {},
   "outputs": [],
   "source": [
    "model2.compile(loss = tf.keras.losses.CategoricalCrossentropy(label_smoothing=0.1),\n",
    "             optimizer = tf.keras.optimizers.Adam(),\n",
    "             metrics = ['accuracy'])"
   ]
  },
  {
   "cell_type": "code",
   "execution_count": 37,
   "id": "154af0bb-86a1-4ef3-87f3-399758ee733a",
   "metadata": {},
   "outputs": [
    {
     "name": "stdout",
     "output_type": "stream",
     "text": [
      "Epoch 1/100\n",
      "4254/4254 [==============================] - ETA: 0s - loss: 0.8795 - accuracy: 0.7504\n",
      "Epoch 1: val_accuracy improved from -inf to 0.62724, saving model to checkpoints/model2.ckpt\n",
      "4254/4254 [==============================] - 308s 71ms/step - loss: 0.8795 - accuracy: 0.7504 - val_loss: 1.1322 - val_accuracy: 0.6272 - lr: 0.0010\n",
      "Epoch 2/100\n",
      "4254/4254 [==============================] - ETA: 0s - loss: 0.7546 - accuracy: 0.8169\n",
      "Epoch 2: val_accuracy improved from 0.62724 to 0.64335, saving model to checkpoints/model2.ckpt\n",
      "4254/4254 [==============================] - 254s 60ms/step - loss: 0.7546 - accuracy: 0.8169 - val_loss: 1.1277 - val_accuracy: 0.6434 - lr: 0.0010\n",
      "Epoch 3/100\n",
      "4254/4254 [==============================] - ETA: 0s - loss: 0.6894 - accuracy: 0.8517\n",
      "Epoch 3: val_accuracy did not improve from 0.64335\n",
      "\n",
      "Epoch 3: ReduceLROnPlateau reducing learning rate to 0.00020000000949949026.\n",
      "4254/4254 [==============================] - 246s 58ms/step - loss: 0.6894 - accuracy: 0.8517 - val_loss: 1.1578 - val_accuracy: 0.6362 - lr: 0.0010\n",
      "Epoch 4/100\n",
      "4254/4254 [==============================] - ETA: 0s - loss: 0.6028 - accuracy: 0.8994\n",
      "Epoch 4: val_accuracy did not improve from 0.64335\n",
      "\n",
      "Epoch 4: ReduceLROnPlateau reducing learning rate to 4.0000001899898055e-05.\n",
      "4254/4254 [==============================] - 246s 58ms/step - loss: 0.6028 - accuracy: 0.8994 - val_loss: 1.2295 - val_accuracy: 0.6384 - lr: 2.0000e-04\n",
      "Epoch 5/100\n",
      "4254/4254 [==============================] - ETA: 0s - loss: 0.5513 - accuracy: 0.9288\n",
      "Epoch 5: val_accuracy did not improve from 0.64335\n",
      "\n",
      "Epoch 5: ReduceLROnPlateau reducing learning rate to 8.000000525498762e-06.\n",
      "4254/4254 [==============================] - 246s 58ms/step - loss: 0.5513 - accuracy: 0.9288 - val_loss: 1.2734 - val_accuracy: 0.6320 - lr: 4.0000e-05\n",
      "Epoch 5: early stopping\n"
     ]
    }
   ],
   "source": [
    "model2_history = model2.fit(train_dataset,\n",
    "                         epochs = 100,\n",
    "                         validation_data = test_dataset,\n",
    "                         validation_steps = len(test_dataset),\n",
    "                         callbacks = [create_checkpoint('model2'),\n",
    "                                     early_stopping,\n",
    "                                     reduce_lr]\n",
    "                         )"
   ]
  },
  {
   "cell_type": "markdown",
   "id": "7649b082-2825-4ae3-aee7-33c150b2eca6",
   "metadata": {},
   "source": [
    "## Using BERT"
   ]
  },
  {
   "cell_type": "code",
   "execution_count": 38,
   "id": "54120d6f-a1ef-4ff5-be6c-63fbd67b6dd5",
   "metadata": {},
   "outputs": [],
   "source": [
    "import tensorflow_hub as hub\n",
    "import tensorflow_text"
   ]
  },
  {
   "cell_type": "markdown",
   "id": "00cc2efa-53c0-46a2-a55e-0f8f03fb2e12",
   "metadata": {},
   "source": [
    "### Creating Dataset"
   ]
  },
  {
   "cell_type": "code",
   "execution_count": 39,
   "id": "b175d511-e154-4daa-b00f-99b147a3a193",
   "metadata": {},
   "outputs": [],
   "source": [
    "train_dataset_bert = tf.data.Dataset.from_tensor_slices((X_train,y_train))\n",
    "test_dataset_bert = tf.data.Dataset.from_tensor_slices((X_test, y_test))"
   ]
  },
  {
   "cell_type": "code",
   "execution_count": 40,
   "id": "f695a9d9-dd23-4a4e-a655-5cde3cae8299",
   "metadata": {},
   "outputs": [],
   "source": [
    "train_dataset_bert = train_dataset_bert.batch(32).prefetch(tf.data.AUTOTUNE)\n",
    "test_dataset_bert  = test_dataset_bert.batch(32).prefetch(tf.data.AUTOTUNE)"
   ]
  },
  {
   "cell_type": "markdown",
   "id": "06866049-790b-410f-b0e8-23bc9e3b2cfc",
   "metadata": {},
   "source": [
    "### BERT"
   ]
  },
  {
   "cell_type": "code",
   "execution_count": 41,
   "id": "6bf7b487-02de-48a4-a573-a83fadd76971",
   "metadata": {},
   "outputs": [],
   "source": [
    "preprocessor_url = \"https://kaggle.com/models/tensorflow/bert/frameworks/TensorFlow2/variations/en-uncased-preprocess/versions/3\"\n",
    "# encoder_url = \"https://www.kaggle.com/models/tensorflow/bert/frameworks/TensorFlow2/variations/bert-en-uncased-l-12-h-256-a-4/versions/2\"\n",
    "encoder_url =     \"https://www.kaggle.com/models/tensorflow/bert/frameworks/TensorFlow2/variations/bert-en-uncased-l-10-h-128-a-2/versions/2\"\n",
    "preprocessor = hub.KerasLayer(preprocessor_url)\n",
    "\n",
    "encoder = hub.KerasLayer(encoder_url, trainable=True)"
   ]
  },
  {
   "cell_type": "code",
   "execution_count": 42,
   "id": "e8435684-e10f-4b59-a61f-d41669de3a99",
   "metadata": {},
   "outputs": [
    {
     "name": "stdout",
     "output_type": "stream",
     "text": [
      "Model: \"model_3\"\n",
      "__________________________________________________________________________________________________\n",
      " Layer (type)                Output Shape                 Param #   Connected to                  \n",
      "==================================================================================================\n",
      " input_1 (InputLayer)        [(None,)]                    0         []                            \n",
      "                                                                                                  \n",
      " keras_layer (KerasLayer)    {'input_word_ids': (None,    0         ['input_1[0][0]']             \n",
      "                             128),                                                                \n",
      "                              'input_type_ids': (None,                                            \n",
      "                             128),                                                                \n",
      "                              'input_mask': (None, 128)                                           \n",
      "                             }                                                                    \n",
      "                                                                                                  \n",
      " keras_layer_1 (KerasLayer)  {'default': (None, 128),     5972097   ['keras_layer[0][0]',         \n",
      "                              'sequence_output': (None,              'keras_layer[0][1]',         \n",
      "                              128, 128),                             'keras_layer[0][2]']         \n",
      "                              'encoder_outputs': [(None                                           \n",
      "                             , 128, 128),                                                         \n",
      "                              (None, 128, 128),                                                   \n",
      "                              (None, 128, 128),                                                   \n",
      "                              (None, 128, 128),                                                   \n",
      "                              (None, 128, 128),                                                   \n",
      "                              (None, 128, 128),                                                   \n",
      "                              (None, 128, 128),                                                   \n",
      "                              (None, 128, 128),                                                   \n",
      "                              (None, 128, 128),                                                   \n",
      "                              (None, 128, 128)],                                                  \n",
      "                              'pooled_output': (None, 1                                           \n",
      "                             28)}                                                                 \n",
      "                                                                                                  \n",
      " dense_10 (Dense)            (None, 10)                   1290      ['keras_layer_1[0][11]']      \n",
      "                                                                                                  \n",
      " dense_11 (Dense)            (None, 5)                    55        ['dense_10[0][0]']            \n",
      "                                                                                                  \n",
      "==================================================================================================\n",
      "Total params: 5973442 (22.79 MB)\n",
      "Trainable params: 5973441 (22.79 MB)\n",
      "Non-trainable params: 1 (1.00 Byte)\n",
      "__________________________________________________________________________________________________\n"
     ]
    }
   ],
   "source": [
    "inputs = tf.keras.Input(shape = (), dtype = tf.string)\n",
    "x = preprocessor(inputs)\n",
    "x = encoder(x)\n",
    "x = tf.keras.layers.Dense(10, activation='relu')(x['pooled_output'])\n",
    "outputs = tf.keras.layers.Dense(5, activation = 'softmax',dtype = tf.float32)(x)\n",
    "\n",
    "bert = tf.keras.models.Model(inputs, outputs)\n",
    "\n",
    "bert.compile(loss = tf.keras.losses.CategoricalCrossentropy(),\n",
    "             optimizer = tf.keras.optimizers.Adam(learning_rate = 1e-5),\n",
    "             metrics = ['accuracy']\n",
    "             )\n",
    "\n",
    "bert.summary()\n"
   ]
  },
  {
   "cell_type": "code",
   "execution_count": 43,
   "id": "a3fb5c33-1153-44eb-8978-556e544f98d0",
   "metadata": {},
   "outputs": [
    {
     "name": "stdout",
     "output_type": "stream",
     "text": [
      "Epoch 1/100\n",
      "4254/4254 [==============================] - ETA: 0s - loss: 1.0158 - accuracy: 0.5934\n",
      "Epoch 1: val_accuracy improved from -inf to 0.62260, saving model to checkpoints/bert_model.ckpt\n",
      "4254/4254 [==============================] - 474s 107ms/step - loss: 1.0158 - accuracy: 0.5934 - val_loss: 0.9277 - val_accuracy: 0.6226 - lr: 1.0000e-05\n",
      "Epoch 2/100\n",
      "4254/4254 [==============================] - ETA: 0s - loss: 0.9041 - accuracy: 0.6367\n",
      "Epoch 2: val_accuracy improved from 0.62260 to 0.64320, saving model to checkpoints/bert_model.ckpt\n",
      "4254/4254 [==============================] - 441s 104ms/step - loss: 0.9041 - accuracy: 0.6367 - val_loss: 0.8858 - val_accuracy: 0.6432 - lr: 1.0000e-05\n",
      "Epoch 3/100\n",
      "4254/4254 [==============================] - ETA: 0s - loss: 0.8652 - accuracy: 0.6514\n",
      "Epoch 3: val_accuracy improved from 0.64320 to 0.65007, saving model to checkpoints/bert_model.ckpt\n",
      "4254/4254 [==============================] - 445s 105ms/step - loss: 0.8652 - accuracy: 0.6514 - val_loss: 0.8667 - val_accuracy: 0.6501 - lr: 1.0000e-05\n",
      "Epoch 4/100\n",
      "4254/4254 [==============================] - ETA: 0s - loss: 0.8383 - accuracy: 0.6610\n",
      "Epoch 4: val_accuracy improved from 0.65007 to 0.65110, saving model to checkpoints/bert_model.ckpt\n",
      "4254/4254 [==============================] - 446s 105ms/step - loss: 0.8383 - accuracy: 0.6610 - val_loss: 0.8505 - val_accuracy: 0.6511 - lr: 1.0000e-05\n",
      "Epoch 5/100\n",
      "4254/4254 [==============================] - ETA: 0s - loss: 0.8183 - accuracy: 0.6698\n",
      "Epoch 5: val_accuracy did not improve from 0.65110\n",
      "4254/4254 [==============================] - 446s 105ms/step - loss: 0.8183 - accuracy: 0.6698 - val_loss: 0.8386 - val_accuracy: 0.6508 - lr: 1.0000e-05\n",
      "Epoch 6/100\n",
      "4254/4254 [==============================] - ETA: 0s - loss: 0.8019 - accuracy: 0.6743\n",
      "Epoch 6: val_accuracy improved from 0.65110 to 0.66037, saving model to checkpoints/bert_model.ckpt\n",
      "4254/4254 [==============================] - 448s 105ms/step - loss: 0.8019 - accuracy: 0.6743 - val_loss: 0.8353 - val_accuracy: 0.6604 - lr: 1.0000e-05\n",
      "Epoch 7/100\n",
      "4254/4254 [==============================] - ETA: 0s - loss: 0.7876 - accuracy: 0.6802\n",
      "Epoch 7: val_accuracy did not improve from 0.66037\n",
      "\n",
      "Epoch 7: ReduceLROnPlateau reducing learning rate to 1.9999999494757505e-06.\n",
      "4254/4254 [==============================] - 447s 105ms/step - loss: 0.7876 - accuracy: 0.6802 - val_loss: 0.8377 - val_accuracy: 0.6511 - lr: 1.0000e-05\n",
      "Epoch 8/100\n",
      "4254/4254 [==============================] - ETA: 0s - loss: 0.7689 - accuracy: 0.6879\n",
      "Epoch 8: val_accuracy improved from 0.66037 to 0.66277, saving model to checkpoints/bert_model.ckpt\n",
      "4254/4254 [==============================] - 447s 105ms/step - loss: 0.7689 - accuracy: 0.6879 - val_loss: 0.8281 - val_accuracy: 0.6628 - lr: 2.0000e-06\n",
      "Epoch 9/100\n",
      "4254/4254 [==============================] - ETA: 0s - loss: 0.7646 - accuracy: 0.6905\n",
      "Epoch 9: val_accuracy did not improve from 0.66277\n",
      "\n",
      "Epoch 9: ReduceLROnPlateau reducing learning rate to 3.999999989900971e-07.\n",
      "4254/4254 [==============================] - 445s 105ms/step - loss: 0.7646 - accuracy: 0.6905 - val_loss: 0.8298 - val_accuracy: 0.6604 - lr: 2.0000e-06\n",
      "Epoch 10/100\n",
      "4254/4254 [==============================] - ETA: 0s - loss: 0.7613 - accuracy: 0.6914\n",
      "Epoch 10: val_accuracy did not improve from 0.66277\n",
      "\n",
      "Epoch 10: ReduceLROnPlateau reducing learning rate to 1e-07.\n",
      "4254/4254 [==============================] - 444s 104ms/step - loss: 0.7613 - accuracy: 0.6914 - val_loss: 0.8291 - val_accuracy: 0.6617 - lr: 4.0000e-07\n",
      "Epoch 11/100\n",
      "4254/4254 [==============================] - ETA: 0s - loss: 0.7601 - accuracy: 0.6916\n",
      "Epoch 11: val_accuracy did not improve from 0.66277\n",
      "4254/4254 [==============================] - 442s 104ms/step - loss: 0.7601 - accuracy: 0.6916 - val_loss: 0.8294 - val_accuracy: 0.6600 - lr: 1.0000e-07\n",
      "Epoch 11: early stopping\n"
     ]
    },
    {
     "data": {
      "text/plain": [
       "<keras.src.callbacks.History at 0x7fa2a435fd30>"
      ]
     },
     "execution_count": 43,
     "metadata": {},
     "output_type": "execute_result"
    }
   ],
   "source": [
    "bert.fit(train_dataset,\n",
    "         steps_per_epoch = int(len(train_dataset)),\n",
    "         epochs = 100,\n",
    "         validation_data=test_dataset,\n",
    "         validation_steps =int(0.05*len(test_dataset)),\n",
    "         callbacks = [create_checkpoint('bert_model'),\n",
    "                                     early_stopping,\n",
    "                                     reduce_lr]\n",
    "            )"
   ]
  },
  {
   "cell_type": "code",
   "execution_count": null,
   "id": "2dbe3537-1fae-4f26-9ae5-2f0fadde5767",
   "metadata": {},
   "outputs": [],
   "source": []
  },
  {
   "cell_type": "code",
   "execution_count": 52,
   "id": "c4cebbab-c995-425f-b41c-72bac8625612",
   "metadata": {},
   "outputs": [],
   "source": [
    "preprocessor_url = \"https://kaggle.com/models/tensorflow/bert/frameworks/TensorFlow2/variations/en-uncased-preprocess/versions/3\"\n",
    "# encoder_url = \"https://www.kaggle.com/models/tensorflow/bert/frameworks/TensorFlow2/variations/bert-en-uncased-l-12-h-256-a-4/versions/2\"\n",
    "encoder_url =     \"https://www.kaggle.com/models/tensorflow/bert/frameworks/TensorFlow2/variations/bert-en-uncased-l-10-h-128-a-2/versions/2\"\n",
    "preprocessor = hub.KerasLayer(preprocessor_url)\n",
    "\n",
    "encoder = hub.KerasLayer(encoder_url, trainable=True)"
   ]
  },
  {
   "cell_type": "code",
   "execution_count": 53,
   "id": "079b655c-9280-40c0-b2b7-37c8d221f2fc",
   "metadata": {},
   "outputs": [
    {
     "name": "stdout",
     "output_type": "stream",
     "text": [
      "Model: \"model_7\"\n",
      "__________________________________________________________________________________________________\n",
      " Layer (type)                Output Shape                 Param #   Connected to                  \n",
      "==================================================================================================\n",
      " input_5 (InputLayer)        [(None,)]                    0         []                            \n",
      "                                                                                                  \n",
      " keras_layer_6 (KerasLayer)  {'input_mask': (None, 128)   0         ['input_5[0][0]']             \n",
      "                             , 'input_type_ids': (None,                                           \n",
      "                              128),                                                               \n",
      "                              'input_word_ids': (None,                                            \n",
      "                             128)}                                                                \n",
      "                                                                                                  \n",
      " keras_layer_7 (KerasLayer)  {'pooled_output': (None, 1   5972097   ['keras_layer_6[0][0]',       \n",
      "                             28),                                    'keras_layer_6[0][1]',       \n",
      "                              'encoder_outputs': [(None              'keras_layer_6[0][2]']       \n",
      "                             , 128, 128),                                                         \n",
      "                              (None, 128, 128),                                                   \n",
      "                              (None, 128, 128),                                                   \n",
      "                              (None, 128, 128),                                                   \n",
      "                              (None, 128, 128),                                                   \n",
      "                              (None, 128, 128),                                                   \n",
      "                              (None, 128, 128),                                                   \n",
      "                              (None, 128, 128),                                                   \n",
      "                              (None, 128, 128),                                                   \n",
      "                              (None, 128, 128)],                                                  \n",
      "                              'default': (None, 128),                                             \n",
      "                              'sequence_output': (None,                                           \n",
      "                              128, 128)}                                                          \n",
      "                                                                                                  \n",
      " dense_18 (Dense)            (None, 10)                   1290      ['keras_layer_7[0][11]']      \n",
      "                                                                                                  \n",
      " dense_19 (Dense)            (None, 5)                    55        ['dense_18[0][0]']            \n",
      "                                                                                                  \n",
      "==================================================================================================\n",
      "Total params: 5973442 (22.79 MB)\n",
      "Trainable params: 5973441 (22.79 MB)\n",
      "Non-trainable params: 1 (1.00 Byte)\n",
      "__________________________________________________________________________________________________\n"
     ]
    }
   ],
   "source": [
    "inputs = tf.keras.Input(shape = (), dtype = tf.string)\n",
    "x = preprocessor(inputs)\n",
    "x = encoder(x)\n",
    "x = tf.keras.layers.Dense(10, activation='relu')(x['pooled_output'])\n",
    "outputs = tf.keras.layers.Dense(5, activation = 'softmax',dtype = tf.float32)(x)\n",
    "\n",
    "bert2 = tf.keras.models.Model(inputs, outputs)\n",
    "\n",
    "bert2.compile(loss = tf.keras.losses.CategoricalCrossentropy(),\n",
    "             optimizer = tf.keras.optimizers.Adam(learning_rate = 1e-5),\n",
    "             metrics = ['accuracy']\n",
    "             )\n",
    "\n",
    "bert2.summary()\n"
   ]
  },
  {
   "cell_type": "code",
   "execution_count": 54,
   "id": "20df52b3-cbb9-48f6-b1dd-5c4c3df535f5",
   "metadata": {},
   "outputs": [
    {
     "name": "stdout",
     "output_type": "stream",
     "text": [
      "Epoch 1/100\n",
      "425/425 [==============================] - ETA: 0s - loss: 1.3767 - accuracy: 0.2234\n",
      "Epoch 1: val_accuracy improved from -inf to 0.22390, saving model to checkpoints/bert2_model.ckpt\n",
      "425/425 [==============================] - 98s 165ms/step - loss: 1.3767 - accuracy: 0.2234 - val_loss: 1.3257 - val_accuracy: 0.2239 - lr: 1.0000e-05\n",
      "Epoch 2/100\n",
      "214/425 [==============>...............] - ETA: 22s - loss: 1.2621 - accuracy: 0.3518"
     ]
    },
    {
     "ename": "KeyboardInterrupt",
     "evalue": "",
     "output_type": "error",
     "traceback": [
      "\u001b[0;31m---------------------------------------------------------------------------\u001b[0m",
      "\u001b[0;31mKeyboardInterrupt\u001b[0m                         Traceback (most recent call last)",
      "Cell \u001b[0;32mIn[54], line 1\u001b[0m\n\u001b[0;32m----> 1\u001b[0m \u001b[43mbert2\u001b[49m\u001b[38;5;241;43m.\u001b[39;49m\u001b[43mfit\u001b[49m\u001b[43m(\u001b[49m\u001b[43mtrain_dataset\u001b[49m\u001b[43m,\u001b[49m\n\u001b[1;32m      2\u001b[0m \u001b[43m         \u001b[49m\u001b[43msteps_per_epoch\u001b[49m\u001b[43m \u001b[49m\u001b[38;5;241;43m=\u001b[39;49m\u001b[43m \u001b[49m\u001b[38;5;28;43mint\u001b[39;49m\u001b[43m(\u001b[49m\u001b[38;5;241;43m0.1\u001b[39;49m\u001b[38;5;241;43m*\u001b[39;49m\u001b[38;5;28;43mlen\u001b[39;49m\u001b[43m(\u001b[49m\u001b[43mtrain_dataset\u001b[49m\u001b[43m)\u001b[49m\u001b[43m)\u001b[49m\u001b[43m,\u001b[49m\n\u001b[1;32m      3\u001b[0m \u001b[43m         \u001b[49m\u001b[43mepochs\u001b[49m\u001b[43m \u001b[49m\u001b[38;5;241;43m=\u001b[39;49m\u001b[43m \u001b[49m\u001b[38;5;241;43m100\u001b[39;49m\u001b[43m,\u001b[49m\n\u001b[1;32m      4\u001b[0m \u001b[43m         \u001b[49m\u001b[43mvalidation_data\u001b[49m\u001b[38;5;241;43m=\u001b[39;49m\u001b[43mtest_dataset\u001b[49m\u001b[43m,\u001b[49m\n\u001b[1;32m      5\u001b[0m \u001b[43m         \u001b[49m\u001b[43mvalidation_steps\u001b[49m\u001b[43m \u001b[49m\u001b[38;5;241;43m=\u001b[39;49m\u001b[38;5;28;43mint\u001b[39;49m\u001b[43m(\u001b[49m\u001b[38;5;241;43m0.05\u001b[39;49m\u001b[38;5;241;43m*\u001b[39;49m\u001b[38;5;28;43mlen\u001b[39;49m\u001b[43m(\u001b[49m\u001b[43mtest_dataset\u001b[49m\u001b[43m)\u001b[49m\u001b[43m)\u001b[49m\u001b[43m,\u001b[49m\n\u001b[1;32m      6\u001b[0m \u001b[43m         \u001b[49m\u001b[43mcallbacks\u001b[49m\u001b[43m \u001b[49m\u001b[38;5;241;43m=\u001b[39;49m\u001b[43m \u001b[49m\u001b[43m[\u001b[49m\u001b[43mcreate_checkpoint\u001b[49m\u001b[43m(\u001b[49m\u001b[38;5;124;43m'\u001b[39;49m\u001b[38;5;124;43mbert2_model\u001b[39;49m\u001b[38;5;124;43m'\u001b[39;49m\u001b[43m)\u001b[49m\u001b[43m,\u001b[49m\n\u001b[1;32m      7\u001b[0m \u001b[43m                                     \u001b[49m\u001b[43mearly_stopping\u001b[49m\u001b[43m,\u001b[49m\n\u001b[1;32m      8\u001b[0m \u001b[43m                                     \u001b[49m\u001b[43mreduce_lr\u001b[49m\u001b[43m]\u001b[49m\n\u001b[1;32m      9\u001b[0m \u001b[43m            \u001b[49m\u001b[43m)\u001b[49m\n",
      "File \u001b[0;32m~/Mayank/PycharmProjects/TF_GPU/venv/lib/python3.10/site-packages/keras/src/utils/traceback_utils.py:65\u001b[0m, in \u001b[0;36mfilter_traceback.<locals>.error_handler\u001b[0;34m(*args, **kwargs)\u001b[0m\n\u001b[1;32m     63\u001b[0m filtered_tb \u001b[38;5;241m=\u001b[39m \u001b[38;5;28;01mNone\u001b[39;00m\n\u001b[1;32m     64\u001b[0m \u001b[38;5;28;01mtry\u001b[39;00m:\n\u001b[0;32m---> 65\u001b[0m     \u001b[38;5;28;01mreturn\u001b[39;00m \u001b[43mfn\u001b[49m\u001b[43m(\u001b[49m\u001b[38;5;241;43m*\u001b[39;49m\u001b[43margs\u001b[49m\u001b[43m,\u001b[49m\u001b[43m \u001b[49m\u001b[38;5;241;43m*\u001b[39;49m\u001b[38;5;241;43m*\u001b[39;49m\u001b[43mkwargs\u001b[49m\u001b[43m)\u001b[49m\n\u001b[1;32m     66\u001b[0m \u001b[38;5;28;01mexcept\u001b[39;00m \u001b[38;5;167;01mException\u001b[39;00m \u001b[38;5;28;01mas\u001b[39;00m e:\n\u001b[1;32m     67\u001b[0m     filtered_tb \u001b[38;5;241m=\u001b[39m _process_traceback_frames(e\u001b[38;5;241m.\u001b[39m__traceback__)\n",
      "File \u001b[0;32m~/Mayank/PycharmProjects/TF_GPU/venv/lib/python3.10/site-packages/keras/src/engine/training.py:1783\u001b[0m, in \u001b[0;36mModel.fit\u001b[0;34m(self, x, y, batch_size, epochs, verbose, callbacks, validation_split, validation_data, shuffle, class_weight, sample_weight, initial_epoch, steps_per_epoch, validation_steps, validation_batch_size, validation_freq, max_queue_size, workers, use_multiprocessing)\u001b[0m\n\u001b[1;32m   1775\u001b[0m \u001b[38;5;28;01mwith\u001b[39;00m tf\u001b[38;5;241m.\u001b[39mprofiler\u001b[38;5;241m.\u001b[39mexperimental\u001b[38;5;241m.\u001b[39mTrace(\n\u001b[1;32m   1776\u001b[0m     \u001b[38;5;124m\"\u001b[39m\u001b[38;5;124mtrain\u001b[39m\u001b[38;5;124m\"\u001b[39m,\n\u001b[1;32m   1777\u001b[0m     epoch_num\u001b[38;5;241m=\u001b[39mepoch,\n\u001b[0;32m   (...)\u001b[0m\n\u001b[1;32m   1780\u001b[0m     _r\u001b[38;5;241m=\u001b[39m\u001b[38;5;241m1\u001b[39m,\n\u001b[1;32m   1781\u001b[0m ):\n\u001b[1;32m   1782\u001b[0m     callbacks\u001b[38;5;241m.\u001b[39mon_train_batch_begin(step)\n\u001b[0;32m-> 1783\u001b[0m     tmp_logs \u001b[38;5;241m=\u001b[39m \u001b[38;5;28;43mself\u001b[39;49m\u001b[38;5;241;43m.\u001b[39;49m\u001b[43mtrain_function\u001b[49m\u001b[43m(\u001b[49m\u001b[43miterator\u001b[49m\u001b[43m)\u001b[49m\n\u001b[1;32m   1784\u001b[0m     \u001b[38;5;28;01mif\u001b[39;00m data_handler\u001b[38;5;241m.\u001b[39mshould_sync:\n\u001b[1;32m   1785\u001b[0m         context\u001b[38;5;241m.\u001b[39masync_wait()\n",
      "File \u001b[0;32m~/Mayank/PycharmProjects/TF_GPU/venv/lib/python3.10/site-packages/tensorflow/python/util/traceback_utils.py:150\u001b[0m, in \u001b[0;36mfilter_traceback.<locals>.error_handler\u001b[0;34m(*args, **kwargs)\u001b[0m\n\u001b[1;32m    148\u001b[0m filtered_tb \u001b[38;5;241m=\u001b[39m \u001b[38;5;28;01mNone\u001b[39;00m\n\u001b[1;32m    149\u001b[0m \u001b[38;5;28;01mtry\u001b[39;00m:\n\u001b[0;32m--> 150\u001b[0m   \u001b[38;5;28;01mreturn\u001b[39;00m \u001b[43mfn\u001b[49m\u001b[43m(\u001b[49m\u001b[38;5;241;43m*\u001b[39;49m\u001b[43margs\u001b[49m\u001b[43m,\u001b[49m\u001b[43m \u001b[49m\u001b[38;5;241;43m*\u001b[39;49m\u001b[38;5;241;43m*\u001b[39;49m\u001b[43mkwargs\u001b[49m\u001b[43m)\u001b[49m\n\u001b[1;32m    151\u001b[0m \u001b[38;5;28;01mexcept\u001b[39;00m \u001b[38;5;167;01mException\u001b[39;00m \u001b[38;5;28;01mas\u001b[39;00m e:\n\u001b[1;32m    152\u001b[0m   filtered_tb \u001b[38;5;241m=\u001b[39m _process_traceback_frames(e\u001b[38;5;241m.\u001b[39m__traceback__)\n",
      "File \u001b[0;32m~/Mayank/PycharmProjects/TF_GPU/venv/lib/python3.10/site-packages/tensorflow/python/eager/polymorphic_function/polymorphic_function.py:831\u001b[0m, in \u001b[0;36mFunction.__call__\u001b[0;34m(self, *args, **kwds)\u001b[0m\n\u001b[1;32m    828\u001b[0m compiler \u001b[38;5;241m=\u001b[39m \u001b[38;5;124m\"\u001b[39m\u001b[38;5;124mxla\u001b[39m\u001b[38;5;124m\"\u001b[39m \u001b[38;5;28;01mif\u001b[39;00m \u001b[38;5;28mself\u001b[39m\u001b[38;5;241m.\u001b[39m_jit_compile \u001b[38;5;28;01melse\u001b[39;00m \u001b[38;5;124m\"\u001b[39m\u001b[38;5;124mnonXla\u001b[39m\u001b[38;5;124m\"\u001b[39m\n\u001b[1;32m    830\u001b[0m \u001b[38;5;28;01mwith\u001b[39;00m OptionalXlaContext(\u001b[38;5;28mself\u001b[39m\u001b[38;5;241m.\u001b[39m_jit_compile):\n\u001b[0;32m--> 831\u001b[0m   result \u001b[38;5;241m=\u001b[39m \u001b[38;5;28;43mself\u001b[39;49m\u001b[38;5;241;43m.\u001b[39;49m\u001b[43m_call\u001b[49m\u001b[43m(\u001b[49m\u001b[38;5;241;43m*\u001b[39;49m\u001b[43margs\u001b[49m\u001b[43m,\u001b[49m\u001b[43m \u001b[49m\u001b[38;5;241;43m*\u001b[39;49m\u001b[38;5;241;43m*\u001b[39;49m\u001b[43mkwds\u001b[49m\u001b[43m)\u001b[49m\n\u001b[1;32m    833\u001b[0m new_tracing_count \u001b[38;5;241m=\u001b[39m \u001b[38;5;28mself\u001b[39m\u001b[38;5;241m.\u001b[39mexperimental_get_tracing_count()\n\u001b[1;32m    834\u001b[0m without_tracing \u001b[38;5;241m=\u001b[39m (tracing_count \u001b[38;5;241m==\u001b[39m new_tracing_count)\n",
      "File \u001b[0;32m~/Mayank/PycharmProjects/TF_GPU/venv/lib/python3.10/site-packages/tensorflow/python/eager/polymorphic_function/polymorphic_function.py:867\u001b[0m, in \u001b[0;36mFunction._call\u001b[0;34m(self, *args, **kwds)\u001b[0m\n\u001b[1;32m    864\u001b[0m   \u001b[38;5;28mself\u001b[39m\u001b[38;5;241m.\u001b[39m_lock\u001b[38;5;241m.\u001b[39mrelease()\n\u001b[1;32m    865\u001b[0m   \u001b[38;5;66;03m# In this case we have created variables on the first call, so we run the\u001b[39;00m\n\u001b[1;32m    866\u001b[0m   \u001b[38;5;66;03m# defunned version which is guaranteed to never create variables.\u001b[39;00m\n\u001b[0;32m--> 867\u001b[0m   \u001b[38;5;28;01mreturn\u001b[39;00m \u001b[43mtracing_compilation\u001b[49m\u001b[38;5;241;43m.\u001b[39;49m\u001b[43mcall_function\u001b[49m\u001b[43m(\u001b[49m\n\u001b[1;32m    868\u001b[0m \u001b[43m      \u001b[49m\u001b[43margs\u001b[49m\u001b[43m,\u001b[49m\u001b[43m \u001b[49m\u001b[43mkwds\u001b[49m\u001b[43m,\u001b[49m\u001b[43m \u001b[49m\u001b[38;5;28;43mself\u001b[39;49m\u001b[38;5;241;43m.\u001b[39;49m\u001b[43m_no_variable_creation_config\u001b[49m\n\u001b[1;32m    869\u001b[0m \u001b[43m  \u001b[49m\u001b[43m)\u001b[49m\n\u001b[1;32m    870\u001b[0m \u001b[38;5;28;01melif\u001b[39;00m \u001b[38;5;28mself\u001b[39m\u001b[38;5;241m.\u001b[39m_variable_creation_config \u001b[38;5;129;01mis\u001b[39;00m \u001b[38;5;129;01mnot\u001b[39;00m \u001b[38;5;28;01mNone\u001b[39;00m:\n\u001b[1;32m    871\u001b[0m   \u001b[38;5;66;03m# Release the lock early so that multiple threads can perform the call\u001b[39;00m\n\u001b[1;32m    872\u001b[0m   \u001b[38;5;66;03m# in parallel.\u001b[39;00m\n\u001b[1;32m    873\u001b[0m   \u001b[38;5;28mself\u001b[39m\u001b[38;5;241m.\u001b[39m_lock\u001b[38;5;241m.\u001b[39mrelease()\n",
      "File \u001b[0;32m~/Mayank/PycharmProjects/TF_GPU/venv/lib/python3.10/site-packages/tensorflow/python/eager/polymorphic_function/tracing_compilation.py:139\u001b[0m, in \u001b[0;36mcall_function\u001b[0;34m(args, kwargs, tracing_options)\u001b[0m\n\u001b[1;32m    137\u001b[0m bound_args \u001b[38;5;241m=\u001b[39m function\u001b[38;5;241m.\u001b[39mfunction_type\u001b[38;5;241m.\u001b[39mbind(\u001b[38;5;241m*\u001b[39margs, \u001b[38;5;241m*\u001b[39m\u001b[38;5;241m*\u001b[39mkwargs)\n\u001b[1;32m    138\u001b[0m flat_inputs \u001b[38;5;241m=\u001b[39m function\u001b[38;5;241m.\u001b[39mfunction_type\u001b[38;5;241m.\u001b[39munpack_inputs(bound_args)\n\u001b[0;32m--> 139\u001b[0m \u001b[38;5;28;01mreturn\u001b[39;00m \u001b[43mfunction\u001b[49m\u001b[38;5;241;43m.\u001b[39;49m\u001b[43m_call_flat\u001b[49m\u001b[43m(\u001b[49m\u001b[43m  \u001b[49m\u001b[38;5;66;43;03m# pylint: disable=protected-access\u001b[39;49;00m\n\u001b[1;32m    140\u001b[0m \u001b[43m    \u001b[49m\u001b[43mflat_inputs\u001b[49m\u001b[43m,\u001b[49m\u001b[43m \u001b[49m\u001b[43mcaptured_inputs\u001b[49m\u001b[38;5;241;43m=\u001b[39;49m\u001b[43mfunction\u001b[49m\u001b[38;5;241;43m.\u001b[39;49m\u001b[43mcaptured_inputs\u001b[49m\n\u001b[1;32m    141\u001b[0m \u001b[43m\u001b[49m\u001b[43m)\u001b[49m\n",
      "File \u001b[0;32m~/Mayank/PycharmProjects/TF_GPU/venv/lib/python3.10/site-packages/tensorflow/python/eager/polymorphic_function/concrete_function.py:1264\u001b[0m, in \u001b[0;36mConcreteFunction._call_flat\u001b[0;34m(self, tensor_inputs, captured_inputs)\u001b[0m\n\u001b[1;32m   1260\u001b[0m possible_gradient_type \u001b[38;5;241m=\u001b[39m gradients_util\u001b[38;5;241m.\u001b[39mPossibleTapeGradientTypes(args)\n\u001b[1;32m   1261\u001b[0m \u001b[38;5;28;01mif\u001b[39;00m (possible_gradient_type \u001b[38;5;241m==\u001b[39m gradients_util\u001b[38;5;241m.\u001b[39mPOSSIBLE_GRADIENT_TYPES_NONE\n\u001b[1;32m   1262\u001b[0m     \u001b[38;5;129;01mand\u001b[39;00m executing_eagerly):\n\u001b[1;32m   1263\u001b[0m   \u001b[38;5;66;03m# No tape is watching; skip to running the function.\u001b[39;00m\n\u001b[0;32m-> 1264\u001b[0m   \u001b[38;5;28;01mreturn\u001b[39;00m \u001b[38;5;28;43mself\u001b[39;49m\u001b[38;5;241;43m.\u001b[39;49m\u001b[43m_inference_function\u001b[49m\u001b[38;5;241;43m.\u001b[39;49m\u001b[43mflat_call\u001b[49m\u001b[43m(\u001b[49m\u001b[43margs\u001b[49m\u001b[43m)\u001b[49m\n\u001b[1;32m   1265\u001b[0m forward_backward \u001b[38;5;241m=\u001b[39m \u001b[38;5;28mself\u001b[39m\u001b[38;5;241m.\u001b[39m_select_forward_and_backward_functions(\n\u001b[1;32m   1266\u001b[0m     args,\n\u001b[1;32m   1267\u001b[0m     possible_gradient_type,\n\u001b[1;32m   1268\u001b[0m     executing_eagerly)\n\u001b[1;32m   1269\u001b[0m forward_function, args_with_tangents \u001b[38;5;241m=\u001b[39m forward_backward\u001b[38;5;241m.\u001b[39mforward()\n",
      "File \u001b[0;32m~/Mayank/PycharmProjects/TF_GPU/venv/lib/python3.10/site-packages/tensorflow/python/eager/polymorphic_function/atomic_function.py:217\u001b[0m, in \u001b[0;36mAtomicFunction.flat_call\u001b[0;34m(self, args)\u001b[0m\n\u001b[1;32m    215\u001b[0m \u001b[38;5;28;01mdef\u001b[39;00m \u001b[38;5;21mflat_call\u001b[39m(\u001b[38;5;28mself\u001b[39m, args: Sequence[core\u001b[38;5;241m.\u001b[39mTensor]) \u001b[38;5;241m-\u001b[39m\u001b[38;5;241m>\u001b[39m Any:\n\u001b[1;32m    216\u001b[0m \u001b[38;5;250m  \u001b[39m\u001b[38;5;124;03m\"\"\"Calls with tensor inputs and returns the structured output.\"\"\"\u001b[39;00m\n\u001b[0;32m--> 217\u001b[0m   flat_outputs \u001b[38;5;241m=\u001b[39m \u001b[38;5;28;43mself\u001b[39;49m\u001b[43m(\u001b[49m\u001b[38;5;241;43m*\u001b[39;49m\u001b[43margs\u001b[49m\u001b[43m)\u001b[49m\n\u001b[1;32m    218\u001b[0m   \u001b[38;5;28;01mreturn\u001b[39;00m \u001b[38;5;28mself\u001b[39m\u001b[38;5;241m.\u001b[39mfunction_type\u001b[38;5;241m.\u001b[39mpack_output(flat_outputs)\n",
      "File \u001b[0;32m~/Mayank/PycharmProjects/TF_GPU/venv/lib/python3.10/site-packages/tensorflow/python/eager/polymorphic_function/atomic_function.py:252\u001b[0m, in \u001b[0;36mAtomicFunction.__call__\u001b[0;34m(self, *args)\u001b[0m\n\u001b[1;32m    250\u001b[0m \u001b[38;5;28;01mwith\u001b[39;00m record\u001b[38;5;241m.\u001b[39mstop_recording():\n\u001b[1;32m    251\u001b[0m   \u001b[38;5;28;01mif\u001b[39;00m \u001b[38;5;28mself\u001b[39m\u001b[38;5;241m.\u001b[39m_bound_context\u001b[38;5;241m.\u001b[39mexecuting_eagerly():\n\u001b[0;32m--> 252\u001b[0m     outputs \u001b[38;5;241m=\u001b[39m \u001b[38;5;28;43mself\u001b[39;49m\u001b[38;5;241;43m.\u001b[39;49m\u001b[43m_bound_context\u001b[49m\u001b[38;5;241;43m.\u001b[39;49m\u001b[43mcall_function\u001b[49m\u001b[43m(\u001b[49m\n\u001b[1;32m    253\u001b[0m \u001b[43m        \u001b[49m\u001b[38;5;28;43mself\u001b[39;49m\u001b[38;5;241;43m.\u001b[39;49m\u001b[43mname\u001b[49m\u001b[43m,\u001b[49m\n\u001b[1;32m    254\u001b[0m \u001b[43m        \u001b[49m\u001b[38;5;28;43mlist\u001b[39;49m\u001b[43m(\u001b[49m\u001b[43margs\u001b[49m\u001b[43m)\u001b[49m\u001b[43m,\u001b[49m\n\u001b[1;32m    255\u001b[0m \u001b[43m        \u001b[49m\u001b[38;5;28;43mlen\u001b[39;49m\u001b[43m(\u001b[49m\u001b[38;5;28;43mself\u001b[39;49m\u001b[38;5;241;43m.\u001b[39;49m\u001b[43mfunction_type\u001b[49m\u001b[38;5;241;43m.\u001b[39;49m\u001b[43mflat_outputs\u001b[49m\u001b[43m)\u001b[49m\u001b[43m,\u001b[49m\n\u001b[1;32m    256\u001b[0m \u001b[43m    \u001b[49m\u001b[43m)\u001b[49m\n\u001b[1;32m    257\u001b[0m   \u001b[38;5;28;01melse\u001b[39;00m:\n\u001b[1;32m    258\u001b[0m     outputs \u001b[38;5;241m=\u001b[39m make_call_op_in_graph(\n\u001b[1;32m    259\u001b[0m         \u001b[38;5;28mself\u001b[39m,\n\u001b[1;32m    260\u001b[0m         \u001b[38;5;28mlist\u001b[39m(args),\n\u001b[1;32m    261\u001b[0m         \u001b[38;5;28mself\u001b[39m\u001b[38;5;241m.\u001b[39m_bound_context\u001b[38;5;241m.\u001b[39mfunction_call_options\u001b[38;5;241m.\u001b[39mas_attrs(),\n\u001b[1;32m    262\u001b[0m     )\n",
      "File \u001b[0;32m~/Mayank/PycharmProjects/TF_GPU/venv/lib/python3.10/site-packages/tensorflow/python/eager/context.py:1479\u001b[0m, in \u001b[0;36mContext.call_function\u001b[0;34m(self, name, tensor_inputs, num_outputs)\u001b[0m\n\u001b[1;32m   1477\u001b[0m cancellation_context \u001b[38;5;241m=\u001b[39m cancellation\u001b[38;5;241m.\u001b[39mcontext()\n\u001b[1;32m   1478\u001b[0m \u001b[38;5;28;01mif\u001b[39;00m cancellation_context \u001b[38;5;129;01mis\u001b[39;00m \u001b[38;5;28;01mNone\u001b[39;00m:\n\u001b[0;32m-> 1479\u001b[0m   outputs \u001b[38;5;241m=\u001b[39m \u001b[43mexecute\u001b[49m\u001b[38;5;241;43m.\u001b[39;49m\u001b[43mexecute\u001b[49m\u001b[43m(\u001b[49m\n\u001b[1;32m   1480\u001b[0m \u001b[43m      \u001b[49m\u001b[43mname\u001b[49m\u001b[38;5;241;43m.\u001b[39;49m\u001b[43mdecode\u001b[49m\u001b[43m(\u001b[49m\u001b[38;5;124;43m\"\u001b[39;49m\u001b[38;5;124;43mutf-8\u001b[39;49m\u001b[38;5;124;43m\"\u001b[39;49m\u001b[43m)\u001b[49m\u001b[43m,\u001b[49m\n\u001b[1;32m   1481\u001b[0m \u001b[43m      \u001b[49m\u001b[43mnum_outputs\u001b[49m\u001b[38;5;241;43m=\u001b[39;49m\u001b[43mnum_outputs\u001b[49m\u001b[43m,\u001b[49m\n\u001b[1;32m   1482\u001b[0m \u001b[43m      \u001b[49m\u001b[43minputs\u001b[49m\u001b[38;5;241;43m=\u001b[39;49m\u001b[43mtensor_inputs\u001b[49m\u001b[43m,\u001b[49m\n\u001b[1;32m   1483\u001b[0m \u001b[43m      \u001b[49m\u001b[43mattrs\u001b[49m\u001b[38;5;241;43m=\u001b[39;49m\u001b[43mattrs\u001b[49m\u001b[43m,\u001b[49m\n\u001b[1;32m   1484\u001b[0m \u001b[43m      \u001b[49m\u001b[43mctx\u001b[49m\u001b[38;5;241;43m=\u001b[39;49m\u001b[38;5;28;43mself\u001b[39;49m\u001b[43m,\u001b[49m\n\u001b[1;32m   1485\u001b[0m \u001b[43m  \u001b[49m\u001b[43m)\u001b[49m\n\u001b[1;32m   1486\u001b[0m \u001b[38;5;28;01melse\u001b[39;00m:\n\u001b[1;32m   1487\u001b[0m   outputs \u001b[38;5;241m=\u001b[39m execute\u001b[38;5;241m.\u001b[39mexecute_with_cancellation(\n\u001b[1;32m   1488\u001b[0m       name\u001b[38;5;241m.\u001b[39mdecode(\u001b[38;5;124m\"\u001b[39m\u001b[38;5;124mutf-8\u001b[39m\u001b[38;5;124m\"\u001b[39m),\n\u001b[1;32m   1489\u001b[0m       num_outputs\u001b[38;5;241m=\u001b[39mnum_outputs,\n\u001b[0;32m   (...)\u001b[0m\n\u001b[1;32m   1493\u001b[0m       cancellation_manager\u001b[38;5;241m=\u001b[39mcancellation_context,\n\u001b[1;32m   1494\u001b[0m   )\n",
      "File \u001b[0;32m~/Mayank/PycharmProjects/TF_GPU/venv/lib/python3.10/site-packages/tensorflow/python/eager/execute.py:60\u001b[0m, in \u001b[0;36mquick_execute\u001b[0;34m(op_name, num_outputs, inputs, attrs, ctx, name)\u001b[0m\n\u001b[1;32m     53\u001b[0m   \u001b[38;5;66;03m# Convert any objects of type core_types.Tensor to Tensor.\u001b[39;00m\n\u001b[1;32m     54\u001b[0m   inputs \u001b[38;5;241m=\u001b[39m [\n\u001b[1;32m     55\u001b[0m       tensor_conversion_registry\u001b[38;5;241m.\u001b[39mconvert(t)\n\u001b[1;32m     56\u001b[0m       \u001b[38;5;28;01mif\u001b[39;00m \u001b[38;5;28misinstance\u001b[39m(t, core_types\u001b[38;5;241m.\u001b[39mTensor)\n\u001b[1;32m     57\u001b[0m       \u001b[38;5;28;01melse\u001b[39;00m t\n\u001b[1;32m     58\u001b[0m       \u001b[38;5;28;01mfor\u001b[39;00m t \u001b[38;5;129;01min\u001b[39;00m inputs\n\u001b[1;32m     59\u001b[0m   ]\n\u001b[0;32m---> 60\u001b[0m   tensors \u001b[38;5;241m=\u001b[39m \u001b[43mpywrap_tfe\u001b[49m\u001b[38;5;241;43m.\u001b[39;49m\u001b[43mTFE_Py_Execute\u001b[49m\u001b[43m(\u001b[49m\u001b[43mctx\u001b[49m\u001b[38;5;241;43m.\u001b[39;49m\u001b[43m_handle\u001b[49m\u001b[43m,\u001b[49m\u001b[43m \u001b[49m\u001b[43mdevice_name\u001b[49m\u001b[43m,\u001b[49m\u001b[43m \u001b[49m\u001b[43mop_name\u001b[49m\u001b[43m,\u001b[49m\n\u001b[1;32m     61\u001b[0m \u001b[43m                                      \u001b[49m\u001b[43minputs\u001b[49m\u001b[43m,\u001b[49m\u001b[43m \u001b[49m\u001b[43mattrs\u001b[49m\u001b[43m,\u001b[49m\u001b[43m \u001b[49m\u001b[43mnum_outputs\u001b[49m\u001b[43m)\u001b[49m\n\u001b[1;32m     62\u001b[0m \u001b[38;5;28;01mexcept\u001b[39;00m core\u001b[38;5;241m.\u001b[39m_NotOkStatusException \u001b[38;5;28;01mas\u001b[39;00m e:\n\u001b[1;32m     63\u001b[0m   \u001b[38;5;28;01mif\u001b[39;00m name \u001b[38;5;129;01mis\u001b[39;00m \u001b[38;5;129;01mnot\u001b[39;00m \u001b[38;5;28;01mNone\u001b[39;00m:\n",
      "\u001b[0;31mKeyboardInterrupt\u001b[0m: "
     ]
    }
   ],
   "source": [
    "bert2.fit(train_dataset,\n",
    "         steps_per_epoch = int(0.1*len(train_dataset)),\n",
    "         epochs = 100,\n",
    "         validation_data=test_dataset,\n",
    "         validation_steps =int(0.05*len(test_dataset)),\n",
    "         callbacks = [create_checkpoint('bert2_model'),\n",
    "                                     early_stopping,\n",
    "                                     reduce_lr]\n",
    "            )"
   ]
  },
  {
   "cell_type": "code",
   "execution_count": null,
   "id": "c0698fa5-42ae-4872-950a-39f84f797571",
   "metadata": {},
   "outputs": [],
   "source": []
  }
 ],
 "metadata": {
  "kernelspec": {
   "display_name": "Python 3 (ipykernel)",
   "language": "python",
   "name": "python3"
  },
  "language_info": {
   "codemirror_mode": {
    "name": "ipython",
    "version": 3
   },
   "file_extension": ".py",
   "mimetype": "text/x-python",
   "name": "python",
   "nbconvert_exporter": "python",
   "pygments_lexer": "ipython3",
   "version": "3.10.11"
  }
 },
 "nbformat": 4,
 "nbformat_minor": 5
}
